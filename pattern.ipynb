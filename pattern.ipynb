{
 "cells": [
  {
   "cell_type": "code",
   "execution_count": 41,
   "id": "8f01c324",
   "metadata": {},
   "outputs": [
    {
     "name": "stdout",
     "output_type": "stream",
     "text": [
      "* \n",
      "  * \n",
      "    * \n",
      "      * \n"
     ]
    }
   ],
   "source": [
    "for i in range(4):\n",
    "    for j in range(6):\n",
    "        #space = int(6/2)*\" \"\n",
    "        star = *\"*\"+(i*\"  \")+\"*\"\n",
    "        print(star,end = \" \")\n",
    "        break\n",
    "        \n",
    "    print()\n",
    "       "
   ]
  },
  {
   "cell_type": "code",
   "execution_count": 50,
   "id": "4f8261f5",
   "metadata": {},
   "outputs": [
    {
     "name": "stdout",
     "output_type": "stream",
     "text": [
      " * * * * *\n",
      " * * * *\n",
      " * * *\n",
      " * *\n",
      " *\n"
     ]
    }
   ],
   "source": [
    "\n",
    "for i in range(5):\n",
    "    print((5-i)*\" *\")"
   ]
  },
  {
   "cell_type": "code",
   "execution_count": 70,
   "id": "a0893199",
   "metadata": {},
   "outputs": [
    {
     "name": "stdout",
     "output_type": "stream",
     "text": [
      "       *\n",
      "      * *\n",
      "     * * *\n",
      "    * * * *\n",
      "   * * * * *\n"
     ]
    }
   ],
   "source": [
    "for i in range(1,6):\n",
    "    print(\" \"*(6-i),end = \" \")\n",
    "    print(\" *\"*(i))"
   ]
  },
  {
   "cell_type": "code",
   "execution_count": 97,
   "id": "7f3cdd38",
   "metadata": {},
   "outputs": [
    {
     "name": "stdout",
     "output_type": "stream",
     "text": [
      "4\n",
      "        \n",
      "   **   \n",
      "  ****  \n",
      " ****** \n"
     ]
    }
   ],
   "source": [
    "n = int(input())\n",
    "for i in range(n):\n",
    "    print(\" \"*(n-i)+\"*\"*(i),end = \"\")\n",
    "    print(\"*\"*(i)+\" \"*(n-i))"
   ]
  },
  {
   "cell_type": "code",
   "execution_count": 98,
   "id": "c24325a5",
   "metadata": {},
   "outputs": [
    {
     "name": "stdout",
     "output_type": "stream",
     "text": [
      "   *\n",
      "  ***\n",
      " *****\n",
      "*******\n"
     ]
    }
   ],
   "source": [
    "for i in range(n):\n",
    "        #spaces before the stars\n",
    "        for j in range(n - i - 1):\n",
    "            print(\" \", end=\"\")\n",
    "        \n",
    "        #stars for each row\n",
    "        for j in range(2 * i + 1):\n",
    "            print(\"*\", end=\"\")\n",
    "        \n",
    "        print()"
   ]
  },
  {
   "cell_type": "code",
   "execution_count": 104,
   "id": "d32ff0c2",
   "metadata": {},
   "outputs": [
    {
     "name": "stdout",
     "output_type": "stream",
     "text": [
      "    *    \n",
      "   ***   \n",
      "  *****  \n",
      " ******* \n"
     ]
    }
   ],
   "source": [
    "for i in range(1,5):\n",
    "    print(\" \"*(5-i)+\"*\"*((i*2)-1)+\" \"*(5-i))"
   ]
  },
  {
   "cell_type": "code",
   "execution_count": 108,
   "id": "d0edaf7d",
   "metadata": {},
   "outputs": [
    {
     "name": "stdout",
     "output_type": "stream",
     "text": [
      "    * *\n",
      "   *  *\n",
      "  *   *\n"
     ]
    }
   ],
   "source": [
    "for i in range(1,4):\n",
    "    print(\" \"*(4-i)+\"*\"+\" \"*(i-1)+\"*\")\n",
    "    "
   ]
  },
  {
   "cell_type": "code",
   "execution_count": 116,
   "id": "44182cc3",
   "metadata": {},
   "outputs": [
    {
     "name": "stdout",
     "output_type": "stream",
     "text": [
      "    *\n",
      "   **\n",
      "  ***\n",
      " ****\n",
      "  ***\n",
      "   **\n",
      "    *\n",
      "     \n"
     ]
    }
   ],
   "source": [
    "for i in range(1,5):\n",
    "    print(\" \"*(5-i)+\"*\"*i)\n",
    "    \n",
    "for j in range(1,5):\n",
    "    print(\" \"*(j+1)+\"*\"*(5-j-1))\n",
    "    "
   ]
  },
  {
   "cell_type": "code",
   "execution_count": 137,
   "id": "2acfbf2a",
   "metadata": {},
   "outputs": [
    {
     "name": "stdout",
     "output_type": "stream",
     "text": [
      "    *\n",
      "   ***\n",
      "  *****\n",
      " *******\n",
      "  *****\n",
      "   ***\n",
      "    *\n"
     ]
    }
   ],
   "source": [
    "for i in range(1,5):\n",
    "    print(\" \"*(5-i)+\"*\"*((i*2)-1))\n",
    "for j in range(4,1,-1):\n",
    "    print(\" \"*(4-j+2)+\"*\"*((j*2)-(4-1)))"
   ]
  },
  {
   "cell_type": "code",
   "execution_count": 151,
   "id": "9899589b",
   "metadata": {},
   "outputs": [
    {
     "name": "stdout",
     "output_type": "stream",
     "text": [
      "---**\n",
      "--*-*\n",
      "-*---*\n",
      "*-----*\n"
     ]
    }
   ],
   "source": [
    "for i in range(1,5):\n",
    "    print(\"-\"*(4-i)+\"*\"+\"-\"*(((i-1)*2)-1)+\"*\")"
   ]
  },
  {
   "cell_type": "code",
   "execution_count": 3,
   "id": "0d4d3779",
   "metadata": {},
   "outputs": [
    {
     "name": "stdout",
     "output_type": "stream",
     "text": [
      "   *\n",
      "\n",
      "  * *\n",
      "\n",
      " *   *\n",
      "\n",
      "*     *\n",
      "\n",
      " *   *\n",
      "\n",
      "  * *\n",
      "\n",
      "   *  \n",
      "\n"
     ]
    }
   ],
   "source": [
    "#hoollow diamond\n",
    "for i in range(1,5):\n",
    "    for j in range(1,5):\n",
    "        print(\" \"*(4-i)+\"*\"+\" \"*(((i-1)*2)-1),end =\"\" )\n",
    "        if i==1:\n",
    "            print(\"\")\n",
    "        else:\n",
    "            print(\"*\")\n",
    "        break\n",
    "    print()\n",
    "    \n",
    "for k in range(1,4):\n",
    "    for l in range(1,4):\n",
    "        print(\" \"*(k)+\"*\",end = \"\")\n",
    "        if k == 2:\n",
    "            print(\" \",end =\"\")\n",
    "        else:\n",
    "            print(\" \"*(4-k),end = \"\")\n",
    "        \n",
    "        if k==3:\n",
    "            print(\" \")\n",
    "        else:\n",
    "            print(\"*\")\n",
    "        \n",
    "        \n",
    "        break\n",
    "            \n",
    "        \n",
    "    print()\n",
    "        \n",
    "    \n"
   ]
  },
  {
   "cell_type": "code",
   "execution_count": 2,
   "id": "717691d3",
   "metadata": {},
   "outputs": [
    {
     "name": "stdout",
     "output_type": "stream",
     "text": [
      "   *\n",
      "  ***\n",
      " *****\n",
      "*******\n",
      " *****\n",
      "  ***\n",
      "   *\n"
     ]
    }
   ],
   "source": [
    "#diamond\n",
    "n = 4 \n",
    "\n",
    "# Upper part of the diamond\n",
    "for i in range(1, n + 1):\n",
    "    print(\" \" * (n - i) + \"*\" * (2 * i - 1))\n",
    "\n",
    "# Lower part of the diamond\n",
    "for i in range(n - 1, 0, -1):\n",
    "    print(\" \" * (n - i) + \"*\" * (2 * i - 1))"
   ]
  },
  {
   "cell_type": "code",
   "execution_count": 207,
   "id": "f365cd99",
   "metadata": {},
   "outputs": [
    {
     "name": "stdout",
     "output_type": "stream",
     "text": [
      "    *\n",
      "   * *\n",
      "  *   *\n",
      " *     *\n",
      "*********\n",
      " *     *\n",
      "  *   *\n",
      "   * *\n",
      "    *\n"
     ]
    }
   ],
   "source": [
    "n = 5 \n",
    "\n",
    "#Upper part of the hollow diamond\n",
    "for i in range(1, n + 1):\n",
    "    if i == 1 or i == n:\n",
    "        print(\" \" * (n - i) + \"*\" * (2 * i - 1))\n",
    "    else:\n",
    "        print(\" \" * (n - i) + \"*\" + \" \" * (2 * i - 3) + \"*\")\n",
    "\n",
    "#Lower part of the hollow diamond\n",
    "for i in range(n - 1, 0, -1):\n",
    "    if i == 1 or i == n:\n",
    "        print(\" \" * (n - i) + \"*\" * (2 * i - 1))\n",
    "    else:\n",
    "        print(\" \" * (n - i) + \"*\" + \" \" * (2 * i - 3) + \"*\")"
   ]
  },
  {
   "cell_type": "code",
   "execution_count": 12,
   "id": "54e5559f",
   "metadata": {},
   "outputs": [
    {
     "name": "stdout",
     "output_type": "stream",
     "text": [
      "      ***\n",
      "       *\n",
      "  *@@@@@\n",
      " **\n",
      "***\n"
     ]
    }
   ],
   "source": [
    "for i in range(0,3):\n",
    "  for j in range(1,10):\n",
    "    if i!=(2):\n",
    "        print(\" \"*((3*2)+i)+\"*\"*(3-(i+i)),end = \"\")\n",
    "    else:\n",
    "      print(\" \"*(i)+\"*\"+\"@\"*(5),end = \"\" )\n",
    "    break\n",
    "  print()\n",
    "\n",
    "for k in range(1,3):\n",
    "  for l in range(1,10):\n",
    "    #if k!=2:\n",
    "    print(\" \"*(3-k-1)+\"*\"*(k+1),end = \"\")\n",
    "    \n",
    "    break\n",
    "  print()"
   ]
  },
  {
   "cell_type": "code",
   "execution_count": 46,
   "id": "8bdbe7d6",
   "metadata": {},
   "outputs": [
    {
     "name": "stdout",
     "output_type": "stream",
     "text": [
      "         *****\n",
      "          ***\n",
      "           *\n",
      "            \n",
      "    *@@@@@@@\n",
      "   **\n",
      "  ***\n",
      " ****\n",
      "*****\n"
     ]
    }
   ],
   "source": [
    "for i in range(0,5):\n",
    "    for j in range(1,10):\n",
    "        if i!=(4):\n",
    "            print(\" \"*((5*2)+i-1)+\"*\"*(5-(i+i)),end = \"\")\n",
    "   \n",
    "        else:\n",
    "            print(\" \"*(i)+\"*\"+\"@\"*(7),end = \"\" )\n",
    "        break\n",
    "    print()\n",
    "\n",
    "for k in range(1,5):\n",
    "    for l in range(1,10):\n",
    "    #if k!=2:\n",
    "        print(\" \"*(5-k-1)+\"*\"*(k+1),end = \"\")\n",
    "    \n",
    "        break\n",
    "    print()"
   ]
  },
  {
   "cell_type": "code",
   "execution_count": 5,
   "id": "102eda46",
   "metadata": {},
   "outputs": [
    {
     "name": "stdout",
     "output_type": "stream",
     "text": [
      "11\n",
      "33\n",
      "---------------.|.---------------\n",
      "------------.|..|..|.------------\n",
      "---------.|..|..|..|..|.---------\n",
      "------.|..|..|..|..|..|..|.------\n",
      "---.|..|..|..|..|..|..|..|..|.---\n",
      "-------------WELCOME-------------\n",
      "---.|..|..|..|..|..|..|..|..|.---\n",
      "------.|..|..|..|..|..|..|.------\n",
      "---------.|..|..|..|..|.---------\n",
      "------------.|..|..|.------------\n",
      "---------------.|.---------------\n"
     ]
    }
   ],
   "source": [
    "#doormat pattern\n",
    "\n",
    "n = int(input())\n",
    "m = int(input())\n",
    "for i in range(n):\n",
    "    if i<n//2:\n",
    "          print(\"-\"*(3*(n//2)-i*3) + \".|.\" * ((i*2)+1)+ \"-\"*(3*(n//2)-i*3))\n",
    "    elif i==n//2:\n",
    "        print(\"-\"*int((m-7)/2) + \"WELCOME\" + \"-\"*int((m-7)/2))\n",
    "for i in range(int(n//2),0,-1):\n",
    "    print(\"-\"*(3*(n//2)-(i-1)*3) + \".|.\" * ((i*2)-1)+ \"-\"*(3*(n//2)-(i-1)*3))"
   ]
  },
  {
   "cell_type": "code",
   "execution_count": null,
   "id": "c566e531",
   "metadata": {},
   "outputs": [],
   "source": []
  }
 ],
 "metadata": {
  "kernelspec": {
   "display_name": "Python 3 (ipykernel)",
   "language": "python",
   "name": "python3"
  },
  "language_info": {
   "codemirror_mode": {
    "name": "ipython",
    "version": 3
   },
   "file_extension": ".py",
   "mimetype": "text/x-python",
   "name": "python",
   "nbconvert_exporter": "python",
   "pygments_lexer": "ipython3",
   "version": "3.11.4"
  }
 },
 "nbformat": 4,
 "nbformat_minor": 5
}
